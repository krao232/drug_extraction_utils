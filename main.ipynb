{
 "cells": [
  {
   "cell_type": "code",
   "execution_count": 1,
   "metadata": {},
   "outputs": [],
   "source": [
    "%load_ext autoreload\n",
    "%autoreload 2"
   ]
  },
  {
   "cell_type": "code",
   "execution_count": 6,
   "metadata": {},
   "outputs": [],
   "source": [
    "import pandas as pd\n",
    "from ast import literal_eval\n",
    "from helper_functions.get_website_sentences_from_mongo import get_website_sentences_from_mongo\n",
    "from helper_functions.process_sentences import process_sentences\n",
    "from helper_functions.get_NER_format import get_NER_format, NER_maker\n",
    "from helper_functions.get_healthcare_api_response import get_healthcare_api_response\n",
    "from helper_functions.get_healthcare_api_labels import get_healthcare_api_labels"
   ]
  },
  {
   "cell_type": "code",
   "execution_count": null,
   "metadata": {},
   "outputs": [],
   "source": [
    "df = get_website_sentences_from_mongo()"
   ]
  },
  {
   "cell_type": "code",
   "execution_count": 15,
   "metadata": {},
   "outputs": [],
   "source": [
    "df = process_sentences(df)"
   ]
  },
  {
   "cell_type": "code",
   "execution_count": 23,
   "metadata": {},
   "outputs": [
    {
     "data": {
      "text/html": [
       "<div>\n",
       "<style scoped>\n",
       "    .dataframe tbody tr th:only-of-type {\n",
       "        vertical-align: middle;\n",
       "    }\n",
       "\n",
       "    .dataframe tbody tr th {\n",
       "        vertical-align: top;\n",
       "    }\n",
       "\n",
       "    .dataframe thead th {\n",
       "        text-align: right;\n",
       "    }\n",
       "</style>\n",
       "<table border=\"1\" class=\"dataframe\">\n",
       "  <thead>\n",
       "    <tr style=\"text-align: right;\">\n",
       "      <th></th>\n",
       "      <th>drug_token</th>\n",
       "      <th>drug</th>\n",
       "      <th>bert_classification</th>\n",
       "      <th>sentence</th>\n",
       "      <th>fda_approved</th>\n",
       "      <th>date_epoch</th>\n",
       "      <th>date</th>\n",
       "      <th>source</th>\n",
       "      <th>mean</th>\n",
       "      <th>company_name</th>\n",
       "      <th>url</th>\n",
       "      <th>drugs</th>\n",
       "    </tr>\n",
       "  </thead>\n",
       "  <tbody>\n",
       "    <tr>\n",
       "      <th>0</th>\n",
       "      <td>austerity</td>\n",
       "      <td>austerity</td>\n",
       "      <td>not_drug</td>\n",
       "      <td>government-debt crisis countermeasures * 2000s...</td>\n",
       "      <td>0</td>\n",
       "      <td>1608768000</td>\n",
       "      <td>December 24, 2020</td>\n",
       "      <td>NaN</td>\n",
       "      <td>0.000000</td>\n",
       "      <td>endpts</td>\n",
       "      <td>https://endpts.com/acordas-ron-cohen-brings-th...</td>\n",
       "      <td>[(austerity, not_drug)]</td>\n",
       "    </tr>\n",
       "    <tr>\n",
       "      <th>1</th>\n",
       "      <td>urothelial</td>\n",
       "      <td>urothelial</td>\n",
       "      <td>not_drug</td>\n",
       "      <td>Keytruda first gained approval in a bladder ca...</td>\n",
       "      <td>0</td>\n",
       "      <td>1608681600</td>\n",
       "      <td>December 23, 2020</td>\n",
       "      <td>NaN</td>\n",
       "      <td>0.000000</td>\n",
       "      <td>endpts</td>\n",
       "      <td>https://endpts.com/fda-ushers-mercks-star-canc...</td>\n",
       "      <td>[(urothelial, not_drug)]</td>\n",
       "    </tr>\n",
       "    <tr>\n",
       "      <th>2</th>\n",
       "      <td>remdesivir</td>\n",
       "      <td>remdesivir</td>\n",
       "      <td>drug</td>\n",
       "      <td>remdesivir is also authorized to treat pediatr...</td>\n",
       "      <td>0</td>\n",
       "      <td>1605916800</td>\n",
       "      <td>November 21, 2020</td>\n",
       "      <td>NaN</td>\n",
       "      <td>1.065624</td>\n",
       "      <td>medpagetoday</td>\n",
       "      <td>https://www.medpagetoday.com/infectiousdisease...</td>\n",
       "      <td>[(remdesivir, drug)]</td>\n",
       "    </tr>\n",
       "    <tr>\n",
       "      <th>3</th>\n",
       "      <td>rp_3500</td>\n",
       "      <td>RP-3500</td>\n",
       "      <td>drug</td>\n",
       "      <td>ventures-founded biotech plans to start testin...</td>\n",
       "      <td>0</td>\n",
       "      <td>1609200000</td>\n",
       "      <td>December 29, 2020</td>\n",
       "      <td>NaN</td>\n",
       "      <td>1.060803</td>\n",
       "      <td>fiercebiotech</td>\n",
       "      <td>https://www.fiercebiotech.com/biotech/versant-...</td>\n",
       "      <td>[(RP-3500, drug)]</td>\n",
       "    </tr>\n",
       "    <tr>\n",
       "      <th>4</th>\n",
       "      <td>vonapanitase</td>\n",
       "      <td>vonapanitase</td>\n",
       "      <td>drug</td>\n",
       "      <td>Proteon is testing vonapanitase in peripheral ...</td>\n",
       "      <td>0</td>\n",
       "      <td>1609545600</td>\n",
       "      <td>January 02, 2021</td>\n",
       "      <td>NaN</td>\n",
       "      <td>1.064360</td>\n",
       "      <td>fiercebiotech</td>\n",
       "      <td>https://www.fiercebiotech.com/biotech/proteon-...</td>\n",
       "      <td>[(vonapanitase, drug)]</td>\n",
       "    </tr>\n",
       "  </tbody>\n",
       "</table>\n",
       "</div>"
      ],
      "text/plain": [
       "     drug_token          drug bert_classification  \\\n",
       "0     austerity     austerity            not_drug   \n",
       "1    urothelial    urothelial            not_drug   \n",
       "2    remdesivir    remdesivir                drug   \n",
       "3       rp_3500       RP-3500                drug   \n",
       "4  vonapanitase  vonapanitase                drug   \n",
       "\n",
       "                                            sentence  fda_approved  \\\n",
       "0  government-debt crisis countermeasures * 2000s...             0   \n",
       "1  Keytruda first gained approval in a bladder ca...             0   \n",
       "2  remdesivir is also authorized to treat pediatr...             0   \n",
       "3  ventures-founded biotech plans to start testin...             0   \n",
       "4  Proteon is testing vonapanitase in peripheral ...             0   \n",
       "\n",
       "   date_epoch               date  source      mean   company_name  \\\n",
       "0  1608768000  December 24, 2020     NaN  0.000000         endpts   \n",
       "1  1608681600  December 23, 2020     NaN  0.000000         endpts   \n",
       "2  1605916800  November 21, 2020     NaN  1.065624   medpagetoday   \n",
       "3  1609200000  December 29, 2020     NaN  1.060803  fiercebiotech   \n",
       "4  1609545600   January 02, 2021     NaN  1.064360  fiercebiotech   \n",
       "\n",
       "                                                 url                     drugs  \n",
       "0  https://endpts.com/acordas-ron-cohen-brings-th...   [(austerity, not_drug)]  \n",
       "1  https://endpts.com/fda-ushers-mercks-star-canc...  [(urothelial, not_drug)]  \n",
       "2  https://www.medpagetoday.com/infectiousdisease...      [(remdesivir, drug)]  \n",
       "3  https://www.fiercebiotech.com/biotech/versant-...         [(RP-3500, drug)]  \n",
       "4  https://www.fiercebiotech.com/biotech/proteon-...    [(vonapanitase, drug)]  "
      ]
     },
     "execution_count": 23,
     "metadata": {},
     "output_type": "execute_result"
    }
   ],
   "source": [
    "df.head(5)"
   ]
  },
  {
   "cell_type": "code",
   "execution_count": 25,
   "metadata": {},
   "outputs": [
    {
     "data": {
      "application/vnd.jupyter.widget-view+json": {
       "model_id": "916706dbabd5424988d0c50c3361c5de",
       "version_major": 2,
       "version_minor": 0
      },
      "text/plain": [
       "HBox(children=(FloatProgress(value=0.0, max=1000.0), HTML(value='')))"
      ]
     },
     "metadata": {},
     "output_type": "display_data"
    },
    {
     "name": "stdout",
     "output_type": "stream",
     "text": [
      "\n"
     ]
    }
   ],
   "source": [
    "res, failed = get_NER_format(df.head(1000))"
   ]
  },
  {
   "cell_type": "code",
   "execution_count": 72,
   "metadata": {},
   "outputs": [],
   "source": [
    "import copy\n",
    "df = copy.deepcopy(res)"
   ]
  },
  {
   "cell_type": "code",
   "execution_count": 73,
   "metadata": {},
   "outputs": [],
   "source": [
    "label_map = {\n",
    "        'Drug': ['drug','not_drug'],\n",
    "    \n",
    "        'O': ['O', 'value', 'disease', 'unit',\n",
    "           'organization', 'health_care_activity', 'finding',\n",
    "           'chemical_substance', 'body_part_or_organ_or_organ_component',\n",
    "           'gene', 'physiologic_function', 'cell_and_cell_components',\n",
    "           'drug_frequency', 'drug_route', 'drug_form', 'drug_unit',\n",
    "           'drug_strength', 'concept', 'drug_duration', 'date',\n",
    "           'sign_or_symptom', 'medical_device', 'drug_dosage', 'tissue']}"
   ]
  },
  {
   "cell_type": "code",
   "execution_count": 74,
   "metadata": {},
   "outputs": [],
   "source": [
    "relabel_dic = {}\n",
    "for elem in label_map: \n",
    "    for subelem in label_map[elem]:\n",
    "        relabel_dic[subelem] = elem"
   ]
  },
  {
   "cell_type": "code",
   "execution_count": 75,
   "metadata": {},
   "outputs": [],
   "source": [
    "label_new = [relabel_dic[n] if n in relabel_dic else n for n in df.label]\n",
    "df['new_label'] = label_new"
   ]
  },
  {
   "cell_type": "code",
   "execution_count": 76,
   "metadata": {},
   "outputs": [],
   "source": [
    "import json \n",
    "d1 = df.to_json(orient = 'records')\n",
    "data = json.loads(d1)"
   ]
  },
  {
   "cell_type": "code",
   "execution_count": 77,
   "metadata": {},
   "outputs": [],
   "source": [
    "new_data = [] \n",
    "for n in data: \n",
    "    if n['new_label'] in ['Drug', 'Target', 'Indication', 'Company']: \n",
    "        count1 = 0\n",
    "        for n1 in n['word'].split(): \n",
    "            if count1 == 0: \n",
    "                lab = 'B-{}'.format(n['new_label'])\n",
    "            else: \n",
    "                lab = 'I-{}'.format(n['new_label'])\n",
    "            new_data.append({\n",
    "                'word': n1, \n",
    "                'label': lab\n",
    "            })\n",
    "            count1+=1\n",
    "    elif n['new_label'] == 'O': \n",
    "        for n2 in n['word'].split(): \n",
    "            new_data.append({\n",
    "                'word': n2, \n",
    "                'label': 'O'\n",
    "            })\n",
    "    else: \n",
    "        new_data.append({\n",
    "                'word': None, \n",
    "                'label': None\n",
    "            })"
   ]
  },
  {
   "cell_type": "code",
   "execution_count": 86,
   "metadata": {},
   "outputs": [],
   "source": [
    "pd.DataFrame(new_data).to_csv('final.tsv', sep = '\\t', header = 0, index = False)"
   ]
  }
 ],
 "metadata": {
  "kernelspec": {
   "display_name": "Python 3",
   "language": "python",
   "name": "python3"
  },
  "language_info": {
   "codemirror_mode": {
    "name": "ipython",
    "version": 3
   },
   "file_extension": ".py",
   "mimetype": "text/x-python",
   "name": "python",
   "nbconvert_exporter": "python",
   "pygments_lexer": "ipython3",
   "version": "3.6.9"
  }
 },
 "nbformat": 4,
 "nbformat_minor": 4
}
