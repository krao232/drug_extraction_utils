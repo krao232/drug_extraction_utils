{
 "cells": [
  {
   "cell_type": "code",
   "execution_count": 1,
   "metadata": {},
   "outputs": [],
   "source": [
    "import collections\n",
    "import pandas as pd\n",
    "import numpy as np\n",
    "import nferx_py.utils as utils\n",
    "from tqdm import tqdm_notebook as tqdm"
   ]
  },
  {
   "cell_type": "code",
   "execution_count": 2,
   "metadata": {},
   "outputs": [],
   "source": [
    "#number of sentences per extracted entity\n",
    "N = 1"
   ]
  },
  {
   "cell_type": "markdown",
   "metadata": {},
   "source": [
    "### Fetch sentences from Mongo"
   ]
  },
  {
   "cell_type": "code",
   "execution_count": 3,
   "metadata": {},
   "outputs": [
    {
     "data": {
      "application/vnd.jupyter.widget-view+json": {
       "model_id": "d386da68d00c413c9704efd852c14631",
       "version_major": 2,
       "version_minor": 0
      },
      "text/plain": [
       "HBox(children=(FloatProgress(value=0.0, max=53162.0), HTML(value='')))"
      ]
     },
     "metadata": {},
     "output_type": "display_data"
    },
    {
     "name": "stdout",
     "output_type": "stream",
     "text": [
      "\n"
     ]
    }
   ],
   "source": [
    "collection = utils.get_mongo_collection_object('drug_extraction_media_corpus',\n",
    "                                               'modified_drug_extracted_sentences',\n",
    "                                               username='krao', \n",
    "                                               password= 'QacGDvm9RMxp')\n",
    "res = []\n",
    "count = 0 \n",
    "for n0 in tqdm(collection.find({}, \n",
    "                             {'url': 1,'source':1,'drugs':1, 'company_name':1, 'date_generated_on': 1}),  total = 53162):\n",
    "    if 'drugs' in n0: \n",
    "        for n1 in n0['drugs']: \n",
    "            if 'extracted_sentences' in n1: \n",
    "                for n2 in n1['extracted_sentences']: \n",
    "                    count = 0\n",
    "                    if (n2['source'] == 'website_sentence'): \n",
    "                        count+=1\n",
    "                        if count<=N:\n",
    "                            res.append({\n",
    "                                        'drug_token': n1['token'],\n",
    "                                        'drug': n1['matched_from'],\n",
    "                                        'bert_classification': n1['bert_classification'],\n",
    "                                        'sentence': n2['sentence'],\n",
    "                                        'fda_approved': n1['fda_approved'], \n",
    "                                        'date_epoch': int(n0['date_generated_on']['epoch']),\n",
    "                                        'date': n0['date_generated_on']['human_readable'],\n",
    "                                        'source': n0['source'] if 'source' in n0 else None, \n",
    "                                        'mean': n1['mean'] if 'mean' in n1 else None,\n",
    "                                        'company_name': n0['company_name'] if 'company_name' in n0 else None,\n",
    "                                        'url': n0['url'] if 'url' in n0 else None\n",
    "                                        }) \n"
   ]
  },
  {
   "cell_type": "code",
   "execution_count": 5,
   "metadata": {},
   "outputs": [
    {
     "data": {
      "text/html": [
       "<div>\n",
       "<style scoped>\n",
       "    .dataframe tbody tr th:only-of-type {\n",
       "        vertical-align: middle;\n",
       "    }\n",
       "\n",
       "    .dataframe tbody tr th {\n",
       "        vertical-align: top;\n",
       "    }\n",
       "\n",
       "    .dataframe thead th {\n",
       "        text-align: right;\n",
       "    }\n",
       "</style>\n",
       "<table border=\"1\" class=\"dataframe\">\n",
       "  <thead>\n",
       "    <tr style=\"text-align: right;\">\n",
       "      <th></th>\n",
       "      <th>drug_token</th>\n",
       "      <th>drug</th>\n",
       "      <th>bert_classification</th>\n",
       "      <th>sentence</th>\n",
       "      <th>fda_approved</th>\n",
       "      <th>date_epoch</th>\n",
       "      <th>date</th>\n",
       "      <th>source</th>\n",
       "      <th>mean</th>\n",
       "      <th>company_name</th>\n",
       "      <th>url</th>\n",
       "    </tr>\n",
       "  </thead>\n",
       "  <tbody>\n",
       "    <tr>\n",
       "      <th>0</th>\n",
       "      <td>clarit</td>\n",
       "      <td>Clarit</td>\n",
       "      <td>drug</td>\n",
       "      <td>\\nPractical PAT Implementation and Regulatory ...</td>\n",
       "      <td>0</td>\n",
       "      <td>1597708800</td>\n",
       "      <td>August 18, 2020</td>\n",
       "      <td>technologynetworks</td>\n",
       "      <td>0.355500</td>\n",
       "      <td>None</td>\n",
       "      <td>https://www.technologynetworks.com/drug-discov...</td>\n",
       "    </tr>\n",
       "    <tr>\n",
       "      <th>1</th>\n",
       "      <td>diffraction</td>\n",
       "      <td>Diffraction</td>\n",
       "      <td>not_drug</td>\n",
       "      <td>E\\nv\\ne\\nn\\nt\\n \\nI\\nn\\nf\\no\\nr\\nm\\na\\nt\\ni\\no...</td>\n",
       "      <td>0</td>\n",
       "      <td>1597708800</td>\n",
       "      <td>August 18, 2020</td>\n",
       "      <td>technologynetworks</td>\n",
       "      <td>0.005553</td>\n",
       "      <td>None</td>\n",
       "      <td>https://www.technologynetworks.com/genomics/ev...</td>\n",
       "    </tr>\n",
       "    <tr>\n",
       "      <th>2</th>\n",
       "      <td>morphogenesis</td>\n",
       "      <td>Morphogenesis</td>\n",
       "      <td>not_drug</td>\n",
       "      <td>biology of cellular interactions euroconferen...</td>\n",
       "      <td>0</td>\n",
       "      <td>1597708800</td>\n",
       "      <td>August 18, 2020</td>\n",
       "      <td>technologynetworks</td>\n",
       "      <td>0.000000</td>\n",
       "      <td>None</td>\n",
       "      <td>https://www.technologynetworks.com/genomics/ev...</td>\n",
       "    </tr>\n",
       "    <tr>\n",
       "      <th>3</th>\n",
       "      <td>panalytical</td>\n",
       "      <td>Panalytical</td>\n",
       "      <td>not_drug</td>\n",
       "      <td>event information\\nmalvern panalytical is hos...</td>\n",
       "      <td>0</td>\n",
       "      <td>1597708800</td>\n",
       "      <td>August 18, 2020</td>\n",
       "      <td>technologynetworks</td>\n",
       "      <td>0.000000</td>\n",
       "      <td>None</td>\n",
       "      <td>https://www.technologynetworks.com/drug-discov...</td>\n",
       "    </tr>\n",
       "    <tr>\n",
       "      <th>4</th>\n",
       "      <td>isothermal</td>\n",
       "      <td>Isothermal</td>\n",
       "      <td>not_drug</td>\n",
       "      <td>information\\nmalvern panalytical is hosting a...</td>\n",
       "      <td>0</td>\n",
       "      <td>1597708800</td>\n",
       "      <td>August 18, 2020</td>\n",
       "      <td>technologynetworks</td>\n",
       "      <td>0.002629</td>\n",
       "      <td>None</td>\n",
       "      <td>https://www.technologynetworks.com/drug-discov...</td>\n",
       "    </tr>\n",
       "  </tbody>\n",
       "</table>\n",
       "</div>"
      ],
      "text/plain": [
       "      drug_token           drug bert_classification  \\\n",
       "0         clarit         Clarit                drug   \n",
       "1    diffraction    Diffraction            not_drug   \n",
       "2  morphogenesis  Morphogenesis            not_drug   \n",
       "3    panalytical    Panalytical            not_drug   \n",
       "4     isothermal     Isothermal            not_drug   \n",
       "\n",
       "                                            sentence  fda_approved  \\\n",
       "0  \\nPractical PAT Implementation and Regulatory ...             0   \n",
       "1  E\\nv\\ne\\nn\\nt\\n \\nI\\nn\\nf\\no\\nr\\nm\\na\\nt\\ni\\no...             0   \n",
       "2   biology of cellular interactions euroconferen...             0   \n",
       "3   event information\\nmalvern panalytical is hos...             0   \n",
       "4   information\\nmalvern panalytical is hosting a...             0   \n",
       "\n",
       "   date_epoch             date              source      mean company_name  \\\n",
       "0  1597708800  August 18, 2020  technologynetworks  0.355500         None   \n",
       "1  1597708800  August 18, 2020  technologynetworks  0.005553         None   \n",
       "2  1597708800  August 18, 2020  technologynetworks  0.000000         None   \n",
       "3  1597708800  August 18, 2020  technologynetworks  0.000000         None   \n",
       "4  1597708800  August 18, 2020  technologynetworks  0.002629         None   \n",
       "\n",
       "                                                 url  \n",
       "0  https://www.technologynetworks.com/drug-discov...  \n",
       "1  https://www.technologynetworks.com/genomics/ev...  \n",
       "2  https://www.technologynetworks.com/genomics/ev...  \n",
       "3  https://www.technologynetworks.com/drug-discov...  \n",
       "4  https://www.technologynetworks.com/drug-discov...  "
      ]
     },
     "execution_count": 5,
     "metadata": {},
     "output_type": "execute_result"
    }
   ],
   "source": [
    "df = pd.DataFrame(res)\n",
    "df.head(5)"
   ]
  },
  {
   "cell_type": "code",
   "execution_count": 6,
   "metadata": {},
   "outputs": [],
   "source": [
    "#filter by date. only look for sentences from after September 15 2020\n",
    "df = df[df.date_epoch > 1600216444]\n",
    "#weird chars in sentence\n",
    "df['sentence'] = [n.replace('\\n', '') for n in df.sentence]"
   ]
  },
  {
   "cell_type": "code",
   "execution_count": 14,
   "metadata": {},
   "outputs": [
    {
     "data": {
      "text/html": [
       "<div>\n",
       "<style scoped>\n",
       "    .dataframe tbody tr th:only-of-type {\n",
       "        vertical-align: middle;\n",
       "    }\n",
       "\n",
       "    .dataframe tbody tr th {\n",
       "        vertical-align: top;\n",
       "    }\n",
       "\n",
       "    .dataframe thead th {\n",
       "        text-align: right;\n",
       "    }\n",
       "</style>\n",
       "<table border=\"1\" class=\"dataframe\">\n",
       "  <thead>\n",
       "    <tr style=\"text-align: right;\">\n",
       "      <th></th>\n",
       "      <th>bert_classification</th>\n",
       "      <th>sentence</th>\n",
       "    </tr>\n",
       "  </thead>\n",
       "  <tbody>\n",
       "    <tr>\n",
       "      <th>1</th>\n",
       "      <td>not_drug</td>\n",
       "      <td>387849</td>\n",
       "    </tr>\n",
       "    <tr>\n",
       "      <th>0</th>\n",
       "      <td>drug</td>\n",
       "      <td>58573</td>\n",
       "    </tr>\n",
       "  </tbody>\n",
       "</table>\n",
       "</div>"
      ],
      "text/plain": [
       "  bert_classification  sentence\n",
       "1            not_drug    387849\n",
       "0                drug     58573"
      ]
     },
     "execution_count": 14,
     "metadata": {},
     "output_type": "execute_result"
    }
   ],
   "source": [
    "#distribution of drug vs not_drug\n",
    "df[['bert_classification', 'sentence']].groupby('bert_classification').count().reset_index().sort_values(by = 'sentence', ascending = False)"
   ]
  },
  {
   "cell_type": "code",
   "execution_count": 15,
   "metadata": {},
   "outputs": [
    {
     "data": {
      "text/html": [
       "<div>\n",
       "<style scoped>\n",
       "    .dataframe tbody tr th:only-of-type {\n",
       "        vertical-align: middle;\n",
       "    }\n",
       "\n",
       "    .dataframe tbody tr th {\n",
       "        vertical-align: top;\n",
       "    }\n",
       "\n",
       "    .dataframe thead th {\n",
       "        text-align: right;\n",
       "    }\n",
       "</style>\n",
       "<table border=\"1\" class=\"dataframe\">\n",
       "  <thead>\n",
       "    <tr style=\"text-align: right;\">\n",
       "      <th></th>\n",
       "      <th>company_name</th>\n",
       "      <th>sentence</th>\n",
       "    </tr>\n",
       "  </thead>\n",
       "  <tbody>\n",
       "    <tr>\n",
       "      <th>11</th>\n",
       "      <td>biospace</td>\n",
       "      <td>226907</td>\n",
       "    </tr>\n",
       "    <tr>\n",
       "      <th>75</th>\n",
       "      <td>statnews</td>\n",
       "      <td>76248</td>\n",
       "    </tr>\n",
       "    <tr>\n",
       "      <th>23</th>\n",
       "      <td>fiercebiotech</td>\n",
       "      <td>54842</td>\n",
       "    </tr>\n",
       "    <tr>\n",
       "      <th>20</th>\n",
       "      <td>endpts</td>\n",
       "      <td>48285</td>\n",
       "    </tr>\n",
       "    <tr>\n",
       "      <th>57</th>\n",
       "      <td>medpagetoday</td>\n",
       "      <td>11442</td>\n",
       "    </tr>\n",
       "    <tr>\n",
       "      <th>...</th>\n",
       "      <td>...</td>\n",
       "      <td>...</td>\n",
       "    </tr>\n",
       "    <tr>\n",
       "      <th>66</th>\n",
       "      <td>pierre-fabre</td>\n",
       "      <td>1</td>\n",
       "    </tr>\n",
       "    <tr>\n",
       "      <th>50</th>\n",
       "      <td>kyowakirin</td>\n",
       "      <td>1</td>\n",
       "    </tr>\n",
       "    <tr>\n",
       "      <th>63</th>\n",
       "      <td>otsuka-us</td>\n",
       "      <td>1</td>\n",
       "    </tr>\n",
       "    <tr>\n",
       "      <th>62</th>\n",
       "      <td>ono-pharma</td>\n",
       "      <td>1</td>\n",
       "    </tr>\n",
       "    <tr>\n",
       "      <th>80</th>\n",
       "      <td>vidacpharma</td>\n",
       "      <td>1</td>\n",
       "    </tr>\n",
       "  </tbody>\n",
       "</table>\n",
       "<p>81 rows × 2 columns</p>\n",
       "</div>"
      ],
      "text/plain": [
       "     company_name  sentence\n",
       "11       biospace    226907\n",
       "75       statnews     76248\n",
       "23  fiercebiotech     54842\n",
       "20         endpts     48285\n",
       "57   medpagetoday     11442\n",
       "..            ...       ...\n",
       "66   pierre-fabre         1\n",
       "50     kyowakirin         1\n",
       "63      otsuka-us         1\n",
       "62     ono-pharma         1\n",
       "80    vidacpharma         1\n",
       "\n",
       "[81 rows x 2 columns]"
      ]
     },
     "execution_count": 15,
     "metadata": {},
     "output_type": "execute_result"
    }
   ],
   "source": [
    "#distribution of sources\n",
    "df[['company_name', 'sentence']].groupby('company_name').count().reset_index().sort_values(by = 'sentence', ascending = False)"
   ]
  },
  {
   "cell_type": "code",
   "execution_count": 16,
   "metadata": {},
   "outputs": [],
   "source": [
    "#sampling code\n",
    "def drop_level(df):\n",
    "    '''helper function to handle errors'''\n",
    "    to_drop = []\n",
    "    if 'level_0' in df.columns:\n",
    "        to_drop.append('level_0')\n",
    "    if 'level_1' in df.columns:\n",
    "        to_drop.append('level_1')\n",
    "    return df.drop(to_drop, axis = 1)\n",
    "\n",
    "def sentences_per_company(df, N):\n",
    "    variables = ['company_name']\n",
    "\n",
    "    counts = df[variables+[\"sentence\"]].groupby(by = variables).count().reset_index()\n",
    "    counts['sentence_count'] = counts.sentence\n",
    "    counts = counts.drop('sentence', axis = 1)\n",
    "\n",
    "    df1 = df.merge(counts, on= variables)\n",
    "    df2 = df1[df1.sentence_count<N]\n",
    "    df3 = df1[df1.sentence_count>=N]\n",
    "    if len(df3)!=0:\n",
    "        df4 = df3.groupby(by = variables, as_index = False).apply(pd.DataFrame.sample, n=N).reset_index()\n",
    "        df5 = pd.concat([df2, df4]).reset_index().drop(['index', 'sentence_count'], axis = 1)   \n",
    "    else: \n",
    "        df5 = df2.reset_index().drop(['index', 'sentence_count'], axis = 1)  \n",
    "    return drop_level(df5)\n",
    "def sentences_per_bert_classification(df, N):\n",
    "    variables = ['bert_classification']\n",
    "\n",
    "    counts = df[variables+[\"sentence\"]].groupby(by = variables).count().reset_index()\n",
    "    counts['sentence_count'] = counts.sentence\n",
    "    counts = counts.drop('sentence', axis = 1)\n",
    "\n",
    "    df1 = df.merge(counts, on= variables)\n",
    "    df2 = df1[df1.sentence_count<N]\n",
    "    df3 = df1[df1.sentence_count>=N]\n",
    "    if len(df3)!=0:\n",
    "        df4 = df3.groupby(by = variables, as_index = False).apply(pd.DataFrame.sample, n=N).reset_index()\n",
    "        df5 = pd.concat([df2, df4]).reset_index().drop(['index', 'sentence_count'], axis = 1)   \n",
    "    else: \n",
    "        df5 = df2.reset_index().drop(['index', 'sentence_count'], axis = 1)  \n",
    "    return drop_level(df5)"
   ]
  },
  {
   "cell_type": "code",
   "execution_count": 17,
   "metadata": {},
   "outputs": [
    {
     "data": {
      "application/vnd.jupyter.widget-view+json": {
       "model_id": "a69060c858884b21925173f3e1db0368",
       "version_major": 2,
       "version_minor": 0
      },
      "text/plain": [
       "HBox(children=(FloatProgress(value=0.0, max=446422.0), HTML(value='')))"
      ]
     },
     "metadata": {},
     "output_type": "display_data"
    },
    {
     "name": "stdout",
     "output_type": "stream",
     "text": [
      "\n"
     ]
    }
   ],
   "source": [
    "#record drugs per sentence, to collapse df on sentence\n",
    "drugs_per_sentence = {} \n",
    "for i in tqdm(df.index): \n",
    "    drug = df.drug[i]\n",
    "    sentence = df.sentence[i]\n",
    "    bert_class = df.bert_classification[i]\n",
    "    if sentence in drugs_per_sentence: \n",
    "        drugs_per_sentence[sentence].append((drug, bert_class))\n",
    "    else: \n",
    "        drugs_per_sentence[sentence] = [(drug, bert_class)]"
   ]
  },
  {
   "cell_type": "code",
   "execution_count": 18,
   "metadata": {},
   "outputs": [
    {
     "data": {
      "text/plain": [
       "[('UBX1325', 'drug'), ('UBX1967', 'drug')]"
      ]
     },
     "execution_count": 18,
     "metadata": {},
     "output_type": "execute_result"
    }
   ],
   "source": [
    "drugs_per_sentence[list(drugs_per_sentence.keys())[0]]"
   ]
  },
  {
   "cell_type": "code",
   "execution_count": 19,
   "metadata": {},
   "outputs": [
    {
     "data": {
      "text/plain": [
       "258488"
      ]
     },
     "execution_count": 19,
     "metadata": {},
     "output_type": "execute_result"
    }
   ],
   "source": [
    "#collapse df on sentence\n",
    "keep = df[['sentence']].drop_duplicates().index\n",
    "df1 = df[df.index.isin(keep)]\n",
    "df1['drugs'] = [drugs_per_sentence[n] for n in df1.sentence]\n",
    "len(df1)"
   ]
  },
  {
   "cell_type": "code",
   "execution_count": 20,
   "metadata": {},
   "outputs": [
    {
     "data": {
      "text/plain": [
       "65378"
      ]
     },
     "execution_count": 20,
     "metadata": {},
     "output_type": "execute_result"
    }
   ],
   "source": [
    "#sample 10k sentences per company\n",
    "df2 = sentences_per_company(df1, 10000)\n",
    "len(df2)"
   ]
  },
  {
   "cell_type": "code",
   "execution_count": 21,
   "metadata": {},
   "outputs": [
    {
     "data": {
      "text/html": [
       "<div>\n",
       "<style scoped>\n",
       "    .dataframe tbody tr th:only-of-type {\n",
       "        vertical-align: middle;\n",
       "    }\n",
       "\n",
       "    .dataframe tbody tr th {\n",
       "        vertical-align: top;\n",
       "    }\n",
       "\n",
       "    .dataframe thead th {\n",
       "        text-align: right;\n",
       "    }\n",
       "</style>\n",
       "<table border=\"1\" class=\"dataframe\">\n",
       "  <thead>\n",
       "    <tr style=\"text-align: right;\">\n",
       "      <th></th>\n",
       "      <th>bert_classification</th>\n",
       "      <th>sentence</th>\n",
       "    </tr>\n",
       "  </thead>\n",
       "  <tbody>\n",
       "    <tr>\n",
       "      <th>1</th>\n",
       "      <td>not_drug</td>\n",
       "      <td>54357</td>\n",
       "    </tr>\n",
       "    <tr>\n",
       "      <th>0</th>\n",
       "      <td>drug</td>\n",
       "      <td>11021</td>\n",
       "    </tr>\n",
       "  </tbody>\n",
       "</table>\n",
       "</div>"
      ],
      "text/plain": [
       "  bert_classification  sentence\n",
       "1            not_drug     54357\n",
       "0                drug     11021"
      ]
     },
     "execution_count": 21,
     "metadata": {},
     "output_type": "execute_result"
    }
   ],
   "source": [
    "#check drug-not_drug dist again\n",
    "df2[['bert_classification', 'sentence']].groupby('bert_classification').count().reset_index().sort_values(by = 'sentence', ascending = False)"
   ]
  },
  {
   "cell_type": "code",
   "execution_count": 22,
   "metadata": {},
   "outputs": [
    {
     "data": {
      "text/plain": [
       "10000"
      ]
     },
     "execution_count": 22,
     "metadata": {},
     "output_type": "execute_result"
    }
   ],
   "source": [
    "#fix ratio at 3:1\n",
    "df3 = pd.concat([df2[df2.bert_classification == 'drug'].sample(n = 7500), \n",
    "                 df2[df2.bert_classification == 'not_drug'].sample(n = 2500)])\n",
    "len(df3)"
   ]
  },
  {
   "cell_type": "code",
   "execution_count": 23,
   "metadata": {},
   "outputs": [],
   "source": [
    "df3.to_csv('sentences_dump.csv', index = False)"
   ]
  },
  {
   "cell_type": "code",
   "execution_count": null,
   "metadata": {},
   "outputs": [],
   "source": []
  }
 ],
 "metadata": {
  "kernelspec": {
   "display_name": "Python 3",
   "language": "python",
   "name": "python3"
  },
  "language_info": {
   "codemirror_mode": {
    "name": "ipython",
    "version": 3
   },
   "file_extension": ".py",
   "mimetype": "text/x-python",
   "name": "python",
   "nbconvert_exporter": "python",
   "pygments_lexer": "ipython3",
   "version": "3.6.9"
  }
 },
 "nbformat": 4,
 "nbformat_minor": 4
}
